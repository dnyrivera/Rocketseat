{
 "cells": [
  {
   "cell_type": "code",
   "execution_count": 46,
   "id": "66da64bb",
   "metadata": {},
   "outputs": [],
   "source": [
    "mylist = [1,2,3,4,5,\"rocketseat\",True,False]"
   ]
  },
  {
   "cell_type": "code",
   "execution_count": 10,
   "id": "6d0bc440",
   "metadata": {},
   "outputs": [
    {
     "name": "stdout",
     "output_type": "stream",
     "text": [
      "[1, 2, 3, 4, 5, 'rocketseat', True, False]\n"
     ]
    }
   ],
   "source": [
    "print(mylist)"
   ]
  },
  {
   "cell_type": "code",
   "execution_count": 20,
   "id": "0149f4c4",
   "metadata": {},
   "outputs": [
    {
     "name": "stdout",
     "output_type": "stream",
     "text": [
      "my_list[0]: 1\n",
      "my_list[5]: rocketseat\n",
      "my_list[1:7]: [2, 3, 4, 5, 'rocketseat', True]\n",
      "my_list[:5]: [1, 2, 3, 4, 5, 'rocketseat']\n",
      "my_list[2:]: [3, 4, 5, 'rocketseat', True, False]\n",
      "my_list[-1]: False\n"
     ]
    }
   ],
   "source": [
    "print(\"my_list[0]:\", mylist[0])\n",
    "print(\"my_list[5]:\", mylist[5])\n",
    "print(\"my_list[1:7]:\", mylist[1:7])\n",
    "print(\"my_list[:5]:\",mylist[:6])\n",
    "print(\"my_list[2:]:\",mylist[2:])\n",
    "print(\"my_list[-1]:\",mylist[-1])"
   ]
  },
  {
   "cell_type": "code",
   "execution_count": 22,
   "id": "dfaea02c",
   "metadata": {},
   "outputs": [
    {
     "name": "stdout",
     "output_type": "stream",
     "text": [
      "['python', 2, 3, 4, 5, 'rocketseat', True, False]\n"
     ]
    }
   ],
   "source": [
    "mylist[0] = \"python\"\n",
    "print(mylist)"
   ]
  },
  {
   "cell_type": "code",
   "execution_count": null,
   "id": "ea4e8b3d",
   "metadata": {},
   "outputs": [
    {
     "name": "stdout",
     "output_type": "stream",
     "text": [
      "After Append: ['first', 'first', 'python', 2, 3, 4, 5, 'rocketseat', True, False, 6, 6, 6, 6, 6, 6, 6, 6]\n",
      "10\n",
      "['first', 'first', 'first', 'python', 2, 3, 4, 5, 'rocketseat', True, False, 6, 6, 6, 6, 6, 6, 6, 6]\n"
     ]
    }
   ],
   "source": [
    "# Methods\n",
    "\n",
    "# Append \n",
    "mylist.append(6)\n",
    "print(\"After Append:\", mylist)\n"
   ]
  },
  {
   "cell_type": "code",
   "execution_count": null,
   "id": "50b33075",
   "metadata": {},
   "outputs": [
    {
     "name": "stdout",
     "output_type": "stream",
     "text": [
      "After Append: ['first', 'first', 'python', 2, 3, 4, 5, 'rocketseat', True, False, 6, 6, 6, 6, 6, 6, 6, 6]\n",
      "10\n",
      "['first', 'first', 'first', 'python', 2, 3, 4, 5, 'rocketseat', True, False, 6, 6, 6, 6, 6, 6, 6, 6]\n"
     ]
    }
   ],
   "source": [
    "# Index\n",
    "print(mylist.index(6))\n",
    "\n",
    "# Insert\n",
    "mylist.insert(0,\"first\")\n",
    "print(mylist)"
   ]
  },
  {
   "cell_type": "code",
   "execution_count": null,
   "id": "dc80c481",
   "metadata": {},
   "outputs": [
    {
     "name": "stdout",
     "output_type": "stream",
     "text": [
      "After Append: ['first', 'first', 'python', 2, 3, 4, 5, 'rocketseat', True, False, 6, 6, 6, 6, 6, 6, 6, 6]\n",
      "10\n",
      "['first', 'first', 'first', 'python', 2, 3, 4, 5, 'rocketseat', True, False, 6, 6, 6, 6, 6, 6, 6, 6]\n"
     ]
    }
   ],
   "source": [
    "# Insert\n",
    "mylist.insert(0,\"first\")\n",
    "print(mylist)"
   ]
  },
  {
   "cell_type": "code",
   "execution_count": 49,
   "id": "1ac4d312",
   "metadata": {},
   "outputs": [
    {
     "name": "stdout",
     "output_type": "stream",
     "text": [
      "[2, 3, 4, 5, 'rocketseat', True]\n",
      "[2, 3, 4, 5, 'rocketseat']\n"
     ]
    }
   ],
   "source": [
    "# Pop\n",
    "# mylist.pop()\n",
    "print(mylist)\n",
    "\n",
    "mylist.remove(True)\n",
    "print(mylist)"
   ]
  },
  {
   "cell_type": "code",
   "execution_count": 52,
   "id": "5791d6b6",
   "metadata": {},
   "outputs": [
    {
     "name": "stdout",
     "output_type": "stream",
     "text": [
      "[1, 2, 3, 4, 19, 219]\n"
     ]
    }
   ],
   "source": [
    "#order\n",
    "\n",
    "numlist = [1,3,19,219,2,4]\n",
    "numlist.sort()\n",
    "print(numlist)"
   ]
  }
 ],
 "metadata": {
  "kernelspec": {
   "display_name": "venv-Rocket",
   "language": "python",
   "name": "python3"
  },
  "language_info": {
   "codemirror_mode": {
    "name": "ipython",
    "version": 3
   },
   "file_extension": ".py",
   "mimetype": "text/x-python",
   "name": "python",
   "nbconvert_exporter": "python",
   "pygments_lexer": "ipython3",
   "version": "3.12.2"
  }
 },
 "nbformat": 4,
 "nbformat_minor": 5
}
