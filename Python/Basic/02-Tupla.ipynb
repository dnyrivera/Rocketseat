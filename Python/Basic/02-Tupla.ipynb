{
 "cells": [
  {
   "cell_type": "code",
   "execution_count": null,
   "id": "ec97ffdb",
   "metadata": {},
   "outputs": [],
   "source": [
    " # Create Tuple\n",
    "\n",
    "mytuple = (1,2,2,3,3,4,4,5,5)"
   ]
  }
 ],
 "metadata": {
  "language_info": {
   "name": "python"
  }
 },
 "nbformat": 4,
 "nbformat_minor": 5
}
